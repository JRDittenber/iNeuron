{
 "cells": [
  {
   "cell_type": "markdown",
   "id": "097479d8",
   "metadata": {},
   "source": [
    "# Basic Python Assignment 2 "
   ]
  },
  {
   "cell_type": "markdown",
   "id": "78669a17",
   "metadata": {},
   "source": [
    "# 1. What are the two values of the Boolean data type? How do you write them?"
   ]
  },
  {
   "cell_type": "markdown",
   "id": "2254f2d3",
   "metadata": {},
   "source": [
    "The two values are: True or False \n",
    "They can be written using the words \"True\" and \"False\" written in title case or by using an integer 1 or 0\n",
    "Below, I demonstrate both approaches"
   ]
  },
  {
   "cell_type": "code",
   "execution_count": 1,
   "id": "48e51f59",
   "metadata": {},
   "outputs": [],
   "source": [
    "a= True \n",
    "b= False\n",
    "c = 1 \n",
    "d = 0 "
   ]
  },
  {
   "cell_type": "code",
   "execution_count": 2,
   "id": "06b8b16d",
   "metadata": {},
   "outputs": [
    {
     "data": {
      "text/plain": [
       "bool"
      ]
     },
     "execution_count": 2,
     "metadata": {},
     "output_type": "execute_result"
    }
   ],
   "source": [
    "type(a)"
   ]
  },
  {
   "cell_type": "code",
   "execution_count": 3,
   "id": "9c4eea4a",
   "metadata": {},
   "outputs": [
    {
     "data": {
      "text/plain": [
       "True"
      ]
     },
     "execution_count": 3,
     "metadata": {},
     "output_type": "execute_result"
    }
   ],
   "source": [
    "bool(c)"
   ]
  },
  {
   "cell_type": "code",
   "execution_count": 4,
   "id": "9b4bed3f",
   "metadata": {},
   "outputs": [
    {
     "data": {
      "text/plain": [
       "True"
      ]
     },
     "execution_count": 4,
     "metadata": {},
     "output_type": "execute_result"
    }
   ],
   "source": [
    "bool(a)"
   ]
  },
  {
   "cell_type": "markdown",
   "id": "e4bbd423",
   "metadata": {},
   "source": [
    "# 2. Boolean Operators \n",
    "\n",
    "\n",
    "**and** can also be written using the ampersand --> & : \n",
    "\n",
    "<br> \n",
    "\n",
    "Evaluates to true if and only if both objects being connected with 'and' have a truth value of True \n",
    "\n",
    "<br>\n",
    "\n",
    "**or** can also be written using a vertical bar as such --> | : \n",
    "\n",
    "<br>\n",
    "Evaluates to true if and only if only one or both objects being connected have a truth value of True \n",
    "\n",
    "<br>\n",
    "\n",
    "**not** can also be written using the excalmation mark --> ! : \n",
    "negates the truth value but most often checks to determine if the boolean value of an assignment or condition not True or False\n"
   ]
  },
  {
   "cell_type": "code",
   "execution_count": 5,
   "id": "bfd2693b",
   "metadata": {},
   "outputs": [
    {
     "data": {
      "text/plain": [
       "False"
      ]
     },
     "execution_count": 5,
     "metadata": {},
     "output_type": "execute_result"
    }
   ],
   "source": [
    "a and b "
   ]
  },
  {
   "cell_type": "code",
   "execution_count": 6,
   "id": "4bdf8476",
   "metadata": {},
   "outputs": [
    {
     "data": {
      "text/plain": [
       "1"
      ]
     },
     "execution_count": 6,
     "metadata": {},
     "output_type": "execute_result"
    }
   ],
   "source": [
    "a and c "
   ]
  },
  {
   "cell_type": "code",
   "execution_count": 7,
   "id": "1735a1b1",
   "metadata": {},
   "outputs": [
    {
     "data": {
      "text/plain": [
       "0"
      ]
     },
     "execution_count": 7,
     "metadata": {},
     "output_type": "execute_result"
    }
   ],
   "source": [
    "a and d "
   ]
  },
  {
   "cell_type": "code",
   "execution_count": 8,
   "id": "2ae136e4",
   "metadata": {},
   "outputs": [
    {
     "data": {
      "text/plain": [
       "True"
      ]
     },
     "execution_count": 8,
     "metadata": {},
     "output_type": "execute_result"
    }
   ],
   "source": [
    "a or d "
   ]
  },
  {
   "cell_type": "code",
   "execution_count": 9,
   "id": "09bb41ec",
   "metadata": {},
   "outputs": [
    {
     "data": {
      "text/plain": [
       "False"
      ]
     },
     "execution_count": 9,
     "metadata": {},
     "output_type": "execute_result"
    }
   ],
   "source": [
    "a & b "
   ]
  },
  {
   "cell_type": "code",
   "execution_count": 10,
   "id": "536599b7",
   "metadata": {},
   "outputs": [
    {
     "data": {
      "text/plain": [
       "1"
      ]
     },
     "execution_count": 10,
     "metadata": {},
     "output_type": "execute_result"
    }
   ],
   "source": [
    "a | d "
   ]
  },
  {
   "cell_type": "code",
   "execution_count": 11,
   "id": "4011c610",
   "metadata": {},
   "outputs": [
    {
     "data": {
      "text/plain": [
       "True"
      ]
     },
     "execution_count": 11,
     "metadata": {},
     "output_type": "execute_result"
    }
   ],
   "source": [
    "a !=b "
   ]
  },
  {
   "cell_type": "code",
   "execution_count": 12,
   "id": "7993db45",
   "metadata": {},
   "outputs": [
    {
     "data": {
      "text/plain": [
       "True"
      ]
     },
     "execution_count": 12,
     "metadata": {},
     "output_type": "execute_result"
    }
   ],
   "source": [
    "a == c"
   ]
  },
  {
   "cell_type": "code",
   "execution_count": 13,
   "id": "6edbc155",
   "metadata": {},
   "outputs": [
    {
     "data": {
      "text/plain": [
       "False"
      ]
     },
     "execution_count": 13,
     "metadata": {},
     "output_type": "execute_result"
    }
   ],
   "source": [
    "a == d "
   ]
  },
  {
   "cell_type": "code",
   "execution_count": 14,
   "id": "977157fa",
   "metadata": {},
   "outputs": [
    {
     "data": {
      "text/plain": [
       "True"
      ]
     },
     "execution_count": 14,
     "metadata": {},
     "output_type": "execute_result"
    }
   ],
   "source": [
    "a != d "
   ]
  },
  {
   "cell_type": "code",
   "execution_count": 15,
   "id": "5a85f76d",
   "metadata": {},
   "outputs": [
    {
     "name": "stdout",
     "output_type": "stream",
     "text": [
      "5 is not in this list.\n"
     ]
    }
   ],
   "source": [
    "# you have to use it to check if something is somewhere\n",
    "\n",
    "l = [1,2,3,4]\n",
    "a = 5\n",
    "if a not in l: \n",
    "    print(f'{a} is not in this list.')\n"
   ]
  },
  {
   "cell_type": "markdown",
   "id": "2c70f415",
   "metadata": {},
   "source": [
    "# 3. Create a truth table for the Boolean Operators "
   ]
  },
  {
   "cell_type": "code",
   "execution_count": 16,
   "id": "78c82079",
   "metadata": {},
   "outputs": [],
   "source": [
    "import pandas as pd "
   ]
  },
  {
   "cell_type": "code",
   "execution_count": 17,
   "id": "65a82348",
   "metadata": {},
   "outputs": [
    {
     "data": {
      "text/html": [
       "<div>\n",
       "<style scoped>\n",
       "    .dataframe tbody tr th:only-of-type {\n",
       "        vertical-align: middle;\n",
       "    }\n",
       "\n",
       "    .dataframe tbody tr th {\n",
       "        vertical-align: top;\n",
       "    }\n",
       "\n",
       "    .dataframe thead th {\n",
       "        text-align: right;\n",
       "    }\n",
       "</style>\n",
       "<table border=\"1\" class=\"dataframe\">\n",
       "  <thead>\n",
       "    <tr style=\"text-align: right;\">\n",
       "      <th></th>\n",
       "      <th>P</th>\n",
       "      <th>Q</th>\n",
       "      <th>not P</th>\n",
       "      <th>not Q</th>\n",
       "      <th>P and Q</th>\n",
       "      <th>P or Q</th>\n",
       "    </tr>\n",
       "  </thead>\n",
       "  <tbody>\n",
       "    <tr>\n",
       "      <th>0</th>\n",
       "      <td>T</td>\n",
       "      <td>T</td>\n",
       "      <td>F</td>\n",
       "      <td>F</td>\n",
       "      <td>T</td>\n",
       "      <td>T</td>\n",
       "    </tr>\n",
       "    <tr>\n",
       "      <th>1</th>\n",
       "      <td>T</td>\n",
       "      <td>F</td>\n",
       "      <td>F</td>\n",
       "      <td>T</td>\n",
       "      <td>F</td>\n",
       "      <td>T</td>\n",
       "    </tr>\n",
       "    <tr>\n",
       "      <th>2</th>\n",
       "      <td>F</td>\n",
       "      <td>F</td>\n",
       "      <td>T</td>\n",
       "      <td>T</td>\n",
       "      <td>F</td>\n",
       "      <td>F</td>\n",
       "    </tr>\n",
       "    <tr>\n",
       "      <th>3</th>\n",
       "      <td>F</td>\n",
       "      <td>T</td>\n",
       "      <td>T</td>\n",
       "      <td>F</td>\n",
       "      <td>F</td>\n",
       "      <td>T</td>\n",
       "    </tr>\n",
       "  </tbody>\n",
       "</table>\n",
       "</div>"
      ],
      "text/plain": [
       "   P  Q not P not Q P and Q P or Q\n",
       "0  T  T     F     F       T      T\n",
       "1  T  F     F     T       F      T\n",
       "2  F  F     T     T       F      F\n",
       "3  F  T     T     F       F      T"
      ]
     },
     "execution_count": 17,
     "metadata": {},
     "output_type": "execute_result"
    }
   ],
   "source": [
    "data=[['T','T', 'F', 'F', 'T', 'T'],['T', 'F', 'F', 'T', 'F', 'T'],\n",
    "      ['F', 'F', 'T', 'T', 'F', 'F'],['F', 'T', 'T', 'F', 'F', 'T']]\n",
    "\n",
    "truth_table=pd.DataFrame(data,columns=['P','Q', 'not P', 'not Q', 'P and Q', 'P or Q'])\n",
    "\n",
    "truth_table "
   ]
  },
  {
   "cell_type": "markdown",
   "id": "d35ed1e6",
   "metadata": {},
   "source": [
    "In summary, the **and** operator is only true when both objects being compared have boolean value of true. The **or** operator is true if either one or both of the objects being compared have a boolean value of true. Finally, **not** simply negates the boolean value. "
   ]
  },
  {
   "cell_type": "markdown",
   "id": "d7dc5776",
   "metadata": {},
   "source": [
    "# 4. What are the values of the following expressions? \n",
    "\n",
    "1. (5>4) and (3 == 5) -- F  --- This statement is false since 3 does not equal 5 \n",
    "2. not(5>4)-- T  --- This statement false because it is true before negation \n",
    "3. (5>4) or (3==5)-- T ---- This statement is true because (5>4) is true \n",
    "4. not((5>4) or (3==5))- F -- this actually one of DeMorgan's Laws and it is equivalent to not(5>4) and not(3==5), which is false, true, so false \n",
    "5. (True and True) and (True == False)-- F -- because the left is always true and the right is always false, true false makes   false in and operator "
   ]
  },
  {
   "cell_type": "markdown",
   "id": "3f8cc3f7",
   "metadata": {},
   "source": [
    "# 5 What are the six comparison operators? \n",
    "\n",
    "1. <  ---------- less than \n",
    "2. \\> ----------- greater than \n",
    "3. == ---------- is equal \n",
    "4. != ---------- is not equal \n",
    "5. <= --------------- less than or equal to \n",
    "6. \\>= --------------- greater than or equal to "
   ]
  },
  {
   "cell_type": "markdown",
   "id": "a07c6932",
   "metadata": {},
   "source": [
    "# 6. What is the difference between the equal to and the assignment operators? Describe a condition and when you would use one. \n",
    "\n",
    "1. Assignment ---->  =  <---- just one 'equality' relation symbol. \n",
    "2. Is Equal ------>  == <----- two 'equality' relation symbols. \n",
    "\n",
    "I will use assignment when intializing a variable. \n",
    "\n",
    "I will use equality when searching for a variaiable with a specific value in a column or vector or when testing a condition "
   ]
  },
  {
   "cell_type": "markdown",
   "id": "5de570f1",
   "metadata": {},
   "source": [
    "# 7. Identify the three blocks in this code: "
   ]
  },
  {
   "cell_type": "code",
   "execution_count": 18,
   "id": "ca16dc41",
   "metadata": {},
   "outputs": [
    {
     "name": "stdout",
     "output_type": "stream",
     "text": [
      "eggs\n",
      "ham\n",
      "spam\n",
      "spam\n"
     ]
    }
   ],
   "source": [
    "#Block 1\n",
    "spam = 0 \n",
    "\n",
    "if spam ==0: \n",
    "    print('eggs')\n",
    "\n",
    " #Block 2\n",
    "if spam > 5: \n",
    "    print('bacon')\n",
    "    \n",
    "#Block 3     \n",
    "else:\n",
    "    print('ham')\n",
    "    print('spam')\n",
    "    print('spam') "
   ]
  },
  {
   "cell_type": "markdown",
   "id": "d3eef2ed",
   "metadata": {},
   "source": [
    "# 8. Write code \n",
    "Write code that satisfies the following conditions \n",
    "1. prints Hello if 1 is stored in spam \n",
    "2. prints Howdy if 2 is stored in spam \n",
    "3. prints Greetings if not 1 and not 2 are stored in spam \n"
   ]
  },
  {
   "cell_type": "code",
   "execution_count": 19,
   "id": "acbfc700",
   "metadata": {},
   "outputs": [
    {
     "name": "stdout",
     "output_type": "stream",
     "text": [
      "Please enter a digit integer between 1 and 9 1\n",
      "Hello\n"
     ]
    }
   ],
   "source": [
    "#take some input from the user \n",
    "\n",
    "spam = int(input('Please enter a digit integer between 1 and 9 '))\n",
    "\n",
    "\n",
    "\n",
    "\n",
    "if spam == 1:\n",
    "    print('Hello')\n",
    "    \n",
    "elif spam == 2:\n",
    "    print('Howdy')\n",
    "\n",
    "else: \n",
    "    print('Greetings!')"
   ]
  },
  {
   "cell_type": "markdown",
   "id": "ed4a3bee",
   "metadata": {},
   "source": [
    "# 9. If you program is stuck in an endless loop, what keys will you press? \n",
    "\n",
    "\n",
    "To exit an infinite loop, you must press: 'Ctrl + C' "
   ]
  },
  {
   "cell_type": "markdown",
   "id": "28dbbfe4",
   "metadata": {},
   "source": [
    "# 10. Difference between **break** and **continue** \n",
    "\n",
    "Break - the break statements allows the loop to be exited after the condition is met \n",
    "<br>\n",
    "Continue - the continue statement allows to skip a portion of the loop "
   ]
  },
  {
   "cell_type": "markdown",
   "id": "4061bdfc",
   "metadata": {},
   "source": [
    "# 11. In a for loop what is the difference between the following \n",
    "\n",
    "range(10) <--------- this only specifies the end point leaving the other parameters as default\n",
    "<br>\n",
    "range(0,10) <--------- this specifies the start and the end point leaving the other parameter as default, but in this case the \n",
    "                       starting point is the same as the default parameter for starting point\n",
    "<br>\n",
    "range(0,10,1) <--------- this specifies the start and the end point and the step-size, but the start point and step-size are                           the same as their defaults\n",
    "\n",
    "There is not difference in their output. "
   ]
  },
  {
   "cell_type": "markdown",
   "id": "16dbf055",
   "metadata": {},
   "source": [
    "# 12. Write a short program. \n",
    "\n",
    "1. Print 1-10 using a for loop \n",
    "2. Print 1-10 using a while loop "
   ]
  },
  {
   "cell_type": "code",
   "execution_count": 25,
   "id": "0824b577",
   "metadata": {},
   "outputs": [
    {
     "name": "stdout",
     "output_type": "stream",
     "text": [
      "1\n",
      "2\n",
      "3\n",
      "4\n",
      "5\n",
      "6\n",
      "7\n",
      "8\n",
      "9\n",
      "10\n"
     ]
    }
   ],
   "source": [
    "i = 0 \n",
    "for i in range(10) :\n",
    "    print(i+1)\n",
    "    \n",
    "    "
   ]
  },
  {
   "cell_type": "code",
   "execution_count": 24,
   "id": "e89c56d8",
   "metadata": {},
   "outputs": [
    {
     "name": "stdout",
     "output_type": "stream",
     "text": [
      "1\n",
      "2\n",
      "3\n",
      "4\n",
      "5\n",
      "6\n",
      "7\n",
      "8\n",
      "9\n",
      "10\n"
     ]
    }
   ],
   "source": [
    "i = 1\n",
    "\n",
    "while i < 11 :\n",
    "    print(i)\n",
    "    i +=1\n",
    "    "
   ]
  },
  {
   "cell_type": "markdown",
   "id": "9f88481a",
   "metadata": {},
   "source": [
    "# 13. Function bacon()\n",
    "\n",
    "If you had a function named bacon() inside a module named spam, how would you call it after import spam? \n",
    "\n",
    "\"\"\" import spam \"\"\" \n",
    "\n",
    "<br>\n",
    "\n",
    "import spam as spam \n",
    "\n",
    "<br>\n",
    "\n",
    "\"\"\"call bacon()\"\"\"\"\n",
    "\n",
    "<br>\n",
    "\n",
    "spam.bacon() "
   ]
  }
 ],
 "metadata": {
  "kernelspec": {
   "display_name": "Python 3 (ipykernel)",
   "language": "python",
   "name": "python3"
  },
  "language_info": {
   "codemirror_mode": {
    "name": "ipython",
    "version": 3
   },
   "file_extension": ".py",
   "mimetype": "text/x-python",
   "name": "python",
   "nbconvert_exporter": "python",
   "pygments_lexer": "ipython3",
   "version": "3.9.13"
  }
 },
 "nbformat": 4,
 "nbformat_minor": 5
}
