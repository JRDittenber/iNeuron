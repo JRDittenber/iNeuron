{
 "cells": [
  {
   "cell_type": "markdown",
   "id": "1952e3b6-9782-4884-9dd5-a95418786e21",
   "metadata": {},
   "source": [
    "# Python Assignment 3 "
   ]
  },
  {
   "cell_type": "markdown",
   "id": "53c62848-316f-493e-b0bf-1a1f8b72558d",
   "metadata": {},
   "source": [
    "## 1. Why are function advantageous to have in your program? \n",
    "\n",
    "A custom program promotes code resusability and prevents repetitive coding.\n",
    "It also allows to breaks down multiple task into singular task. \n",
    "\n",
    "## 2. When does the code in a function run: When it is specified or when it is called? \n",
    "\n",
    "Python does not specify anything until runtime. So, thi is true for a function as well. It must be first defined, and then called in order to run. \n",
    "\n",
    "## 3. What statement creates a function? \n",
    "\n",
    "A function is created with the keyword 'def' \n",
    "\n",
    "For example: \n",
    "\n",
    "def my_function(): \n",
    "\n",
    "    print('Do Stuff') \n",
    "    \n"
   ]
  },
  {
   "cell_type": "code",
   "execution_count": 1,
   "id": "0ddca811-1064-48c4-86ed-76193e9220c7",
   "metadata": {},
   "outputs": [],
   "source": [
    "def my_function():\n",
    "    print('Do Stuff') "
   ]
  },
  {
   "cell_type": "code",
   "execution_count": 2,
   "id": "8cdcdb91-c582-4121-a0c1-f69301114759",
   "metadata": {},
   "outputs": [
    {
     "name": "stdout",
     "output_type": "stream",
     "text": [
      "Do Stuff\n"
     ]
    }
   ],
   "source": [
    "my_function()"
   ]
  },
  {
   "cell_type": "markdown",
   "id": "8be6989b-8344-4b6a-91da-9435e9234adc",
   "metadata": {},
   "source": [
    "## 4. What is the difference between a function and a function call? \n",
    "\n",
    "A function is the code that defines the function. A function call is when one runs the function identifier in a cell along with any arguments that may or may not be defined. "
   ]
  },
  {
   "cell_type": "markdown",
   "id": "66b54f4e-5c7e-4612-992f-c3b627a14925",
   "metadata": {},
   "source": [
    "## 5. How many global scopes are there in a Python program? How many local scopes? \n",
    "\n",
    "In a Python program, there is only one global scope. A global scope contains all global variables and functions. A local scope, on the other hand, is created every time a function is called. The local scope contains local variables and functions defined within the function. The number of local scopes in a Python program depends on the number of functions that are called.\n"
   ]
  },
  {
   "cell_type": "markdown",
   "id": "0a0eb762-ac66-43d4-8045-0968490d7f69",
   "metadata": {},
   "source": [
    "## 6. What happens to variables in a local scope when the function call returns? \n",
    "\n",
    "When a function call returns, the local scope is destroyed and all the variables and functions defined within the local scope are no longer accessible. This is because local scopes in Python are created and destroyed dynamically, as functions are called and return. This is known as \"dynamic scoping\" and is different from \"static scoping\", where the scope of a variable is determined at compile time."
   ]
  },
  {
   "cell_type": "markdown",
   "id": "7c3311f9-5dc9-46c1-82f8-b570accd150b",
   "metadata": {},
   "source": [
    "## 7. What is the concept of a return value? Is it possible to have a return value in an expression? \n",
    "A return value is the value that a function returns to the caller when it finishes execution. In Python, a function can return a value using the return keyword. For example:"
   ]
  },
  {
   "cell_type": "code",
   "execution_count": 3,
   "id": "4a794c29-38cb-440b-b5aa-506a69be7630",
   "metadata": {},
   "outputs": [],
   "source": [
    "def example(a,b): \n",
    "    return a+b "
   ]
  },
  {
   "cell_type": "code",
   "execution_count": 4,
   "id": "21119d77-1462-498e-8226-573b0e773fb5",
   "metadata": {},
   "outputs": [
    {
     "data": {
      "text/plain": [
       "5"
      ]
     },
     "execution_count": 4,
     "metadata": {},
     "output_type": "execute_result"
    }
   ],
   "source": [
    "example(2,3)"
   ]
  },
  {
   "cell_type": "markdown",
   "id": "e23db70b-f938-4d11-ad39-0214568a4204",
   "metadata": {},
   "source": [
    "Expressions cannot have return values. "
   ]
  },
  {
   "cell_type": "markdown",
   "id": "1a027bf8-d3cd-4224-92cb-72d9cc420832",
   "metadata": {},
   "source": [
    "## 8. If a function does not have a return statement, what is the return value of a call to that function? \n",
    "\n",
    "If a function does not have a return statement, it will have a 'none type' return value "
   ]
  },
  {
   "cell_type": "markdown",
   "id": "583b2e54-ac69-4c10-8a34-94bb2b3ab1ae",
   "metadata": {},
   "source": [
    "## 9. How do you have a function variable refer to the global variable? \n",
    "\n",
    "To make a function variable refer to a global variable, use the keyword 'global', example: "
   ]
  },
  {
   "cell_type": "code",
   "execution_count": 12,
   "id": "0003d52e-e74b-481b-a113-9cabaa660783",
   "metadata": {},
   "outputs": [
    {
     "name": "stdout",
     "output_type": "stream",
     "text": [
      "6\n"
     ]
    }
   ],
   "source": [
    "x = 5 \n",
    "\n",
    "def my_function(): \n",
    "    global x \n",
    "    x += 1\n",
    "    print(x) \n",
    "    \n",
    "my_function() "
   ]
  },
  {
   "cell_type": "markdown",
   "id": "2039f97d-5570-405e-acbb-e56d1de2593f",
   "metadata": {},
   "source": [
    "## 10. What is the data type of None? \n",
    "A 'none type' represents the lack of a value or a null value \n",
    "A 'none type' is given when a function does not have a return statement "
   ]
  },
  {
   "cell_type": "markdown",
   "id": "361dd64c-3a4b-4733-8a5c-4739de78f90c",
   "metadata": {},
   "source": [
    "## 11 "
   ]
  },
  {
   "cell_type": "code",
   "execution_count": 14,
   "id": "6636efae-ecb7-47ae-8494-2fb62bbfcef4",
   "metadata": {},
   "outputs": [
    {
     "ename": "ModuleNotFoundError",
     "evalue": "No module named 'areallyourpetsnamederic'",
     "output_type": "error",
     "traceback": [
      "\u001b[0;31m---------------------------------------------------------------------------\u001b[0m",
      "\u001b[0;31mModuleNotFoundError\u001b[0m                       Traceback (most recent call last)",
      "Cell \u001b[0;32mIn [14], line 1\u001b[0m\n\u001b[0;32m----> 1\u001b[0m \u001b[38;5;28;01mimport\u001b[39;00m \u001b[38;5;21;01mareallyourpetsnamederic\u001b[39;00m\n",
      "\u001b[0;31mModuleNotFoundError\u001b[0m: No module named 'areallyourpetsnamederic'"
     ]
    }
   ],
   "source": [
    "import areallyourpetsnamederic "
   ]
  },
  {
   "cell_type": "markdown",
   "id": "5ac69409-0ac4-4b1a-8eb2-bdfcfb08849f",
   "metadata": {},
   "source": [
    "## 12 If you had a bacon() feature in a spam module, what would you call it after importing spam? \n",
    "\n",
    "1. you could try : spam.bacon() \n",
    "2. you could call it directly : bacon() \n",
    "\n",
    "\n"
   ]
  },
  {
   "cell_type": "markdown",
   "id": "c783eb7e-69f3-4441-ae9b-2e9de19decaf",
   "metadata": {},
   "source": [
    "## 13 What can you do to save a program from crashing if it encounters an error?\n",
    "\n",
    "To prevent a program from crashing you can include a 'try'/'except'"
   ]
  },
  {
   "cell_type": "markdown",
   "id": "a4887565-1433-4f4b-bb32-91e56fab8587",
   "metadata": {},
   "source": [
    "## 14 What is the purpose of the try clause? What is the purpose of the except clause? \n",
    "\n",
    "The try clause is used in a try/except statement to define a block of code that you want to try and execute.\n",
    "\n",
    "\n",
    "If an error occurs while executing the code in the try clause, the error is caught by the except clause, and the program continues execution without crashing. The progamer can write code to notify the user of the particular exception that was created by the except claused"
   ]
  },
  {
   "cell_type": "code",
   "execution_count": null,
   "id": "f64b7326-ec51-4aef-870b-37d21bbef717",
   "metadata": {},
   "outputs": [],
   "source": []
  }
 ],
 "metadata": {
  "kernelspec": {
   "display_name": "Python 3 (ipykernel)",
   "language": "python",
   "name": "python3"
  },
  "language_info": {
   "codemirror_mode": {
    "name": "ipython",
    "version": 3
   },
   "file_extension": ".py",
   "mimetype": "text/x-python",
   "name": "python",
   "nbconvert_exporter": "python",
   "pygments_lexer": "ipython3",
   "version": "3.10.6"
  }
 },
 "nbformat": 4,
 "nbformat_minor": 5
}
