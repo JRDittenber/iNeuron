{
  "nbformat": 4,
  "nbformat_minor": 0,
  "metadata": {
    "colab": {
      "provenance": []
    },
    "kernelspec": {
      "name": "python3",
      "display_name": "Python 3"
    },
    "language_info": {
      "name": "python"
    }
  },
  "cells": [
    {
      "cell_type": "markdown",
      "source": [
        "#1. In the below elements which of them are values or an expression? \n",
        "\n",
        "1. value    'hello'\n",
        "2. value    -87.8\n",
        "3. expression  - \n",
        "4. expression / \n",
        "5. expression + \n",
        "6. value 6 "
      ],
      "metadata": {
        "id": "ig_lSD0dPzdO"
      }
    },
    {
      "cell_type": "markdown",
      "source": [
        "#2. What is the difference between a string and a variable? \n",
        "\n",
        "A variable is where a string is held or stored. A string is \n",
        "made up of characters that take up memory in the holder named \n",
        "as a variable. "
      ],
      "metadata": {
        "id": "1V11I1NkPy1x"
      }
    },
    {
      "cell_type": "markdown",
      "source": [
        "#3. Describe three different data types \n",
        "\n",
        "Given that there is not further clarification I will say\n",
        "that there are three data types in Python such as \n",
        "integers, floats or boolean \n",
        "\n",
        "There are also data types such as numeric, objects, or categorical \n",
        "in data frames \n",
        "\n",
        "Finally, with respect to data there is quantitative, qualitative/categorical \n",
        "and also datas and in these we also have continuous/discrete for quantitative and ordinal/nominal for qualitative"
      ],
      "metadata": {
        "id": "V6dgJpchPxRW"
      }
    },
    {
      "cell_type": "markdown",
      "source": [
        "#4 What is an expression made up of? What do expressions do?\n",
        "\n",
        "Expressions are created by combining values or variables with arithmetic operators that perform binary or unary \n",
        "operations on variables and also the expression could be created using logical operators to create conditional statments"
      ],
      "metadata": {
        "id": "kdLD0NluRhc3"
      }
    },
    {
      "cell_type": "markdown",
      "source": [
        "#5. This assignment statements, like spam =10. What is the difference between an expression and a statement? \n",
        "\n",
        "An expression requires some sort of operator, binary or unary and also arithmetic or logcial operator. A statement (excluding conditional statements) does not require any sort of operation or evaluation. A statement is simply a way to assign a variable or to create some object to use in an expression. "
      ],
      "metadata": {
        "id": "NHT_zk1tSN_S"
      }
    },
    {
      "cell_type": "markdown",
      "source": [
        "#6. After running this code, what does the variable bacon contain? \n",
        "\n",
        "bacon = 22 \n",
        "\n",
        "bacon + 1 \n",
        "\n",
        "**************************\n",
        "\n",
        "The value of bacon has not been reassigned, therefore, is remains 22. "
      ],
      "metadata": {
        "id": "SfiexDjtTgyf"
      }
    },
    {
      "cell_type": "markdown",
      "source": [
        "#7. What should the values of the following two terms be? \n",
        "\n",
        "'spam' + 'spamspam'\n",
        "'spam'*3 \n",
        "\n",
        "In both cases, the result will be \n",
        "\n",
        "'spamspamspam'"
      ],
      "metadata": {
        "id": "YPMLuK3CUZGj"
      }
    },
    {
      "cell_type": "markdown",
      "source": [],
      "metadata": {
        "id": "xaiXTqzlUuGF"
      }
    },
    {
      "cell_type": "markdown",
      "source": [
        "#8. Why is egg and a valid variable name while 100 is invalid?\n",
        "\n",
        "Pursuant to the rules of Python varaibles (and their names) it is not possible to name a variable unless the first character is a letter or an underscore. 100 \n",
        "does not start with a letter or an underscore and therefore cannot be used. "
      ],
      "metadata": {
        "id": "3TgGBWtEVJe9"
      }
    },
    {
      "cell_type": "markdown",
      "source": [
        "#9 What three functions can be used to get the integer, float or version of a value? \n",
        "\n",
        "\n",
        "1. int() \n",
        "2. float() \n",
        "3. str() \n"
      ],
      "metadata": {
        "id": "5nsNP2K_V4H3"
      }
    },
    {
      "cell_type": "markdown",
      "source": [
        "#10 Why does this expression cause an error? How can you fix it? \n",
        "\n",
        "'I have eaten' + 99 + 'burritos.'\n",
        "\n",
        " This error occurs because there are two strings and the code attempts to \n",
        " concatenate them with an integer. The solution would be to remove the concatenation and simply write a complete string as \n",
        "\n",
        " 'I have eaten 99 burritos.'\n",
        " \n",
        " Alternatively, if you are interested in making life more complicated for no reason, you can caste the 99 as a string and then perform the concatenation as such: \n",
        "\n",
        " 'I have eaten' + str(99) + 'burritos.' \n",
        "\n",
        "\n",
        " or \n",
        "\n",
        " 'I have eaten + '99' + 'burritos.' (but this will not be very good) \n",
        "\n",
        " so include some spaces \n",
        "\n",
        " 'I have eaten' + \" \" + str(99) + \" \" +  'burritos'\n",
        "\n",
        "\n",
        " or \n",
        "\n",
        " _99 = str(99) \n",
        "\n",
        " 'I have eaten'+ \" \" + _99 + \" \" + 'burritos.'"
      ],
      "metadata": {
        "id": "6KwhgqjcWh1j"
      }
    }
  ]
}