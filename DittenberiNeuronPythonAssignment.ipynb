{
  "nbformat": 4,
  "nbformat_minor": 0,
  "metadata": {
    "colab": {
      "provenance": [],
      "collapsed_sections": []
    },
    "kernelspec": {
      "name": "python3",
      "display_name": "Python 3"
    },
    "language_info": {
      "name": "python"
    }
  },
  "cells": [
    {
      "cell_type": "code",
      "execution_count": 4,
      "metadata": {
        "id": "COg-a5Fk2UID"
      },
      "outputs": [],
      "source": [
        "import numpy as np \n",
        "import pandas as pd \n",
        "import math"
      ]
    },
    {
      "cell_type": "markdown",
      "source": [
        "1. Write a program which will find all such numbers which are divisible by 7 but are not a multiple of, between 2000 and 3200 (both included). The numbers obtained should be printed in a comma-separated sequence on a single line."
      ],
      "metadata": {
        "id": "kBrSQgcn2cT7"
      }
    },
    {
      "cell_type": "code",
      "source": [
        "Range = np.arange(1999,3200)\n",
        "\n",
        "for i in Range: \n",
        "  if ((i%7 == 0) and (i%5 !=0)):\n",
        "    print(\",\",i)"
      ],
      "metadata": {
        "colab": {
          "base_uri": "https://localhost:8080/"
        },
        "id": "Sub-XVvV2amS",
        "outputId": "b3cc5bee-e4fb-4e30-e2f4-5244c70fe6e9"
      },
      "execution_count": 2,
      "outputs": [
        {
          "output_type": "stream",
          "name": "stdout",
          "text": [
            ", 2002\n",
            ", 2009\n",
            ", 2016\n",
            ", 2023\n",
            ", 2037\n",
            ", 2044\n",
            ", 2051\n",
            ", 2058\n",
            ", 2072\n",
            ", 2079\n",
            ", 2086\n",
            ", 2093\n",
            ", 2107\n",
            ", 2114\n",
            ", 2121\n",
            ", 2128\n",
            ", 2142\n",
            ", 2149\n",
            ", 2156\n",
            ", 2163\n",
            ", 2177\n",
            ", 2184\n",
            ", 2191\n",
            ", 2198\n",
            ", 2212\n",
            ", 2219\n",
            ", 2226\n",
            ", 2233\n",
            ", 2247\n",
            ", 2254\n",
            ", 2261\n",
            ", 2268\n",
            ", 2282\n",
            ", 2289\n",
            ", 2296\n",
            ", 2303\n",
            ", 2317\n",
            ", 2324\n",
            ", 2331\n",
            ", 2338\n",
            ", 2352\n",
            ", 2359\n",
            ", 2366\n",
            ", 2373\n",
            ", 2387\n",
            ", 2394\n",
            ", 2401\n",
            ", 2408\n",
            ", 2422\n",
            ", 2429\n",
            ", 2436\n",
            ", 2443\n",
            ", 2457\n",
            ", 2464\n",
            ", 2471\n",
            ", 2478\n",
            ", 2492\n",
            ", 2499\n",
            ", 2506\n",
            ", 2513\n",
            ", 2527\n",
            ", 2534\n",
            ", 2541\n",
            ", 2548\n",
            ", 2562\n",
            ", 2569\n",
            ", 2576\n",
            ", 2583\n",
            ", 2597\n",
            ", 2604\n",
            ", 2611\n",
            ", 2618\n",
            ", 2632\n",
            ", 2639\n",
            ", 2646\n",
            ", 2653\n",
            ", 2667\n",
            ", 2674\n",
            ", 2681\n",
            ", 2688\n",
            ", 2702\n",
            ", 2709\n",
            ", 2716\n",
            ", 2723\n",
            ", 2737\n",
            ", 2744\n",
            ", 2751\n",
            ", 2758\n",
            ", 2772\n",
            ", 2779\n",
            ", 2786\n",
            ", 2793\n",
            ", 2807\n",
            ", 2814\n",
            ", 2821\n",
            ", 2828\n",
            ", 2842\n",
            ", 2849\n",
            ", 2856\n",
            ", 2863\n",
            ", 2877\n",
            ", 2884\n",
            ", 2891\n",
            ", 2898\n",
            ", 2912\n",
            ", 2919\n",
            ", 2926\n",
            ", 2933\n",
            ", 2947\n",
            ", 2954\n",
            ", 2961\n",
            ", 2968\n",
            ", 2982\n",
            ", 2989\n",
            ", 2996\n",
            ", 3003\n",
            ", 3017\n",
            ", 3024\n",
            ", 3031\n",
            ", 3038\n",
            ", 3052\n",
            ", 3059\n",
            ", 3066\n",
            ", 3073\n",
            ", 3087\n",
            ", 3094\n",
            ", 3101\n",
            ", 3108\n",
            ", 3122\n",
            ", 3129\n",
            ", 3136\n",
            ", 3143\n",
            ", 3157\n",
            ", 3164\n",
            ", 3171\n",
            ", 3178\n",
            ", 3192\n",
            ", 3199\n"
          ]
        }
      ]
    },
    {
      "cell_type": "markdown",
      "source": [
        "Write a Python program to accept the user's first and last name and then getting them printed in the reverse order with a space between them."
      ],
      "metadata": {
        "id": "BhLgMMo72ke2"
      }
    },
    {
      "cell_type": "code",
      "source": [
        "First = input('What is your first name? ')\n",
        "Last = input ('What is your last name? ')\n",
        "print(f\"{Last}  {First}\" )"
      ],
      "metadata": {
        "colab": {
          "base_uri": "https://localhost:8080/"
        },
        "id": "EgnYt75p2fTB",
        "outputId": "edb82f43-b315-41a2-febf-ef6c2b82d2d2"
      },
      "execution_count": 8,
      "outputs": [
        {
          "output_type": "stream",
          "name": "stdout",
          "text": [
            "What is your first name? Jeffery \n",
            "What is your last name? Dittenber \n",
            "Dittenber   Jeffery \n"
          ]
        }
      ]
    },
    {
      "cell_type": "markdown",
      "source": [
        "##Write a Python program to find the volume of a sphere with diameter 12 cm"
      ],
      "metadata": {
        "id": "3AxLsZCd2vYn"
      }
    },
    {
      "cell_type": "code",
      "source": [
        "diameter = 12\n",
        "Volume = round((4/3)*math.pi*(0.5*diameter)**3,3)\n",
        "print(f'The volume of a sphere with diamter of {diameter}cm is {Volume} cubic centimeters.')"
      ],
      "metadata": {
        "colab": {
          "base_uri": "https://localhost:8080/"
        },
        "id": "gMK4oHlp2ojI",
        "outputId": "0cff7e51-b525-4d78-e87c-40e1b5483470"
      },
      "execution_count": 7,
      "outputs": [
        {
          "output_type": "stream",
          "name": "stdout",
          "text": [
            "The volume of a sphere with diamter of 12cm is 904.779 cubic centimeters.\n"
          ]
        }
      ]
    },
    {
      "cell_type": "code",
      "source": [],
      "metadata": {
        "id": "bfbhXH893iFz"
      },
      "execution_count": null,
      "outputs": []
    }
  ]
}