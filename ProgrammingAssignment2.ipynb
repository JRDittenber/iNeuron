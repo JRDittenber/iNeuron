{
 "cells": [
  {
   "cell_type": "markdown",
   "id": "200bbb90-31c5-4fb2-b17b-fd336dac7678",
   "metadata": {},
   "source": [
    "# Programming Assignment 2 \n",
    "\n",
    "Write programs to do each of the following: \n",
    "\n",
    "1. Convert kilometers to miles \n",
    "2. Convert Celsius to Fahrenheit \n",
    "3. Display a calendar \n",
    "4. Solve a quadratic equation \n",
    "5. Swap two varaiables without temp variable "
   ]
  },
  {
   "cell_type": "code",
   "execution_count": 3,
   "id": "2764e04b-0400-4263-855c-00f4fbf04204",
   "metadata": {},
   "outputs": [
    {
     "name": "stdin",
     "output_type": "stream",
     "text": [
      "Enter please enter the kilometers:  100\n"
     ]
    },
    {
     "name": "stdout",
     "output_type": "stream",
     "text": [
      "100.0 kilometers is equal to 62.14 miles\n"
     ]
    }
   ],
   "source": [
    "#1 Convert kilometers to miles \n",
    "\n",
    "def convert_k_m() : \n",
    "    while True:\n",
    "        try:\n",
    "            x = float(input('Enter please enter the kilometers: '))\n",
    "            break\n",
    "        except ValueError:\n",
    "            print('Please enter a digit number, but not in words')\n",
    "            \n",
    "    k = x*0.621371\n",
    "    print(f'{x} kilometers is equal to {round(k,2)} miles')\n",
    "\n",
    "\n",
    "convert_k_m() "
   ]
  },
  {
   "cell_type": "code",
   "execution_count": 4,
   "id": "9dd2e755-91a6-4e39-a788-d2927bda8fcf",
   "metadata": {},
   "outputs": [],
   "source": [
    "#2 Convert Celsius to Fahrenheit \n",
    "\n",
    "def convert_c_f() : \n",
    "    while True:\n",
    "        try:\n",
    "            x = float(input('Enter please enter the temperature in degrees Celsius: '))\n",
    "            break\n",
    "        except ValueError:\n",
    "            print('Please enter a digit number, but not in words')\n",
    "            \n",
    "    f = x*(9/5) + 32\n",
    "    print(f'{x} degrees Celsius is equivalent to {round(f,2)} degrees Fahrenheit')"
   ]
  },
  {
   "cell_type": "code",
   "execution_count": 5,
   "id": "9e9bd728-fcd6-4767-b8ef-194eb0d67a1f",
   "metadata": {},
   "outputs": [
    {
     "name": "stdin",
     "output_type": "stream",
     "text": [
      "Enter please enter the temperature in degrees Celsius:  25\n"
     ]
    },
    {
     "name": "stdout",
     "output_type": "stream",
     "text": [
      "25.0 degrees Celsius is equivalent to 77.0 degrees Fahrenheit\n"
     ]
    }
   ],
   "source": [
    "convert_c_f()"
   ]
  },
  {
   "cell_type": "code",
   "execution_count": 12,
   "id": "0fef105e-31f3-4ad9-8b71-d82bd598d908",
   "metadata": {},
   "outputs": [
    {
     "name": "stdin",
     "output_type": "stream",
     "text": [
      "Enter the year as yyyy:  1978\n",
      "Enter the month as mm:  December\n"
     ]
    },
    {
     "name": "stdout",
     "output_type": "stream",
     "text": [
      "Please enter a valid month (mm)\n"
     ]
    },
    {
     "name": "stdin",
     "output_type": "stream",
     "text": [
      "Enter the year as yyyy:  1978\n",
      "Enter the month as mm:  12\n"
     ]
    },
    {
     "name": "stdout",
     "output_type": "stream",
     "text": [
      "   December 1978\n",
      "Su Mo Tu We Th Fr Sa\n",
      "                1  2\n",
      " 3  4  5  6  7  8  9\n",
      "10 11 12 13 14 15 16\n",
      "17 18 19 20 21 22 23\n",
      "24 25 26 27 28 29 30\n",
      "31\n",
      "\n"
     ]
    }
   ],
   "source": [
    "#3 Write a program to display a calendar \n",
    "\n",
    "import calendar\n",
    "\n",
    "while True:\n",
    "    # create a calendar\n",
    "    c = calendar.TextCalendar(calendar.SUNDAY)\n",
    "\n",
    "    # get input \n",
    "    year = int(input(\"Enter the year as yyyy: \"))\n",
    "    month = input(\"Enter the month as mm: \")\n",
    "\n",
    "    try:\n",
    "        # check if the user entered a valid year and month\n",
    "        if year < 1 or year > 9999:\n",
    "            print('Please enter a valid year (yyyy)')\n",
    "        elif not month.isdigit() or int(month) < 1 or int(month) > 12:\n",
    "            print('Please enter a valid month (mm)')\n",
    "        else:\n",
    "            # display the calendar\n",
    "            print(c.formatmonth(year, int(month)))\n",
    "            break\n",
    "    except ValueError:\n",
    "        print('Please enter a valid year and month')\n",
    "\n"
   ]
  },
  {
   "cell_type": "code",
   "execution_count": 30,
   "id": "e0f3abe6-88fb-4c7c-af4d-89a8ac5c347b",
   "metadata": {},
   "outputs": [
    {
     "name": "stdin",
     "output_type": "stream",
     "text": [
      "Enter the leading coefficient:  1\n",
      "Enter the linear term:  2\n",
      "Enter the constant:  1\n"
     ]
    },
    {
     "name": "stdout",
     "output_type": "stream",
     "text": [
      "There is one repeated solution\n",
      " -1.0\n"
     ]
    }
   ],
   "source": [
    "#4 Write a program to solve a quadratic equation \n",
    "def quad():\n",
    "    a = float(input('Enter the leading coefficient: '))\n",
    "    b = float(input('Enter the linear term: '))\n",
    "    c = float(input('Enter the constant: '))\n",
    "    discriminant = b**2 - 4*a*c\n",
    "    if discriminant < 0:\n",
    "        print('There are only complex solutions')\n",
    "        root_1 = complex((-b - (discriminant)**0.5)/(2*a))\n",
    "        root_2 = complex((-b + (discriminant)**0.5)/(2*a))\n",
    "        print(f' {root_1} and {root_2}')\n",
    "    elif discriminant > 0:\n",
    "        print('There are two distinct solutions')\n",
    "        root_1 = (-b - (discriminant)**0.5)/(2*a)\n",
    "        root_2 = (-b + (discriminant)**0.5)/(2*a)\n",
    "        print(f' {root_1} and {root_2}')\n",
    "    else:\n",
    "        print('There is one repeated solution')\n",
    "        root_1 = -b/2*a\n",
    "        root_2 = root_1\n",
    "        print(f' {root_1}')\n",
    "    \n",
    "    \n",
    "quad()"
   ]
  },
  {
   "cell_type": "code",
   "execution_count": 22,
   "id": "0116a899-e3f5-429e-b38d-6f8fa28d598d",
   "metadata": {},
   "outputs": [],
   "source": [
    "# Write a program to swap two variables without a temp variable \n",
    "\n",
    "def swap() : \n",
    "      while True:\n",
    "        try:                  \n",
    "            a = int(input('Enter a number')) \n",
    "            print(f'The first number is {a}')\n",
    "            b = int(input('Enter another number'))  \n",
    "            print(f'The second number is {b}')\n",
    "            a,b = b,a \n",
    "            print(f'The swapped numbers are {a} and {b}')\n",
    "            \n",
    "            break\n",
    "        except ValueError:\n",
    "              print('Please enter a digit number, but not in words')"
   ]
  },
  {
   "cell_type": "code",
   "execution_count": 23,
   "id": "7d425c57-b3f3-4e24-8352-73a3323bb23f",
   "metadata": {},
   "outputs": [
    {
     "name": "stdin",
     "output_type": "stream",
     "text": [
      "Enter a number cat \n"
     ]
    },
    {
     "name": "stdout",
     "output_type": "stream",
     "text": [
      "Please enter a digit number, but not in words\n"
     ]
    },
    {
     "name": "stdin",
     "output_type": "stream",
     "text": [
      "Enter a number elephant \n"
     ]
    },
    {
     "name": "stdout",
     "output_type": "stream",
     "text": [
      "Please enter a digit number, but not in words\n"
     ]
    },
    {
     "name": "stdin",
     "output_type": "stream",
     "text": [
      "Enter a number 34\n"
     ]
    },
    {
     "name": "stdout",
     "output_type": "stream",
     "text": [
      "The first number is 34\n"
     ]
    },
    {
     "name": "stdin",
     "output_type": "stream",
     "text": [
      "Enter another number 33\n"
     ]
    },
    {
     "name": "stdout",
     "output_type": "stream",
     "text": [
      "The second number is 33\n",
      "The swapped numbers are 33 and 34\n"
     ]
    }
   ],
   "source": [
    "swap() "
   ]
  },
  {
   "cell_type": "code",
   "execution_count": null,
   "id": "37b5d726-903d-4557-8b6f-159eb1dcd4ea",
   "metadata": {},
   "outputs": [],
   "source": []
  }
 ],
 "metadata": {
  "kernelspec": {
   "display_name": "Python 3 (ipykernel)",
   "language": "python",
   "name": "python3"
  },
  "language_info": {
   "codemirror_mode": {
    "name": "ipython",
    "version": 3
   },
   "file_extension": ".py",
   "mimetype": "text/x-python",
   "name": "python",
   "nbconvert_exporter": "python",
   "pygments_lexer": "ipython3",
   "version": "3.10.6"
  }
 },
 "nbformat": 4,
 "nbformat_minor": 5
}
