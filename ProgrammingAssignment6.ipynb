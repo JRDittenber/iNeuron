{
 "cells": [
  {
   "cell_type": "markdown",
   "id": "4bc05c05-323f-4322-9414-12ab15a4f88b",
   "metadata": {},
   "source": [
    "# Python Assignment 6 \n",
    "\n",
    "1. What are escape characters and how do you use them? \n",
    "2. What do the escape characters n and t stand for? \n",
    "3. What is the way to include backslash characters in a string? \n",
    "4. The strings \"Howl's Moving Castle\" is a correct value. Why isn't the single character in the word Howl's not escaped a problem? \n",
    "5. How do you write a string of newlines if you don't want to use the n charater \n",
    "6. What are the values of the given expressions \n",
    "7. What are the values of the given expressions \n",
    "8. What are the values of the given expressions \n",
    "9. What are the methods for right-justifying and left-justifying, and centering a string \n",
    "10. What is the best way to remove whitespace characters from start or end? "
   ]
  },
  {
   "cell_type": "markdown",
   "id": "29aa3294-5b37-4450-a7e3-030cd046a9d0",
   "metadata": {},
   "source": [
    "## Solutions"
   ]
  },
  {
   "cell_type": "markdown",
   "id": "956c8a7f-22f5-4cc4-9b1d-f161d0697b87",
   "metadata": {},
   "source": [
    "1. Escape characters allow one to use characters that normally would cause an error or have a different interpretation. For example, \n",
    "\n",
    "- `\\n`: newline \n",
    "- `\\t`: tab \n",
    "- `\\\"`: double quote \n",
    "- `\\\\` : back slash \n",
    "\n",
    "You can also use them to allow double quotes inside a string or double single quotes. "
   ]
  },
  {
   "cell_type": "markdown",
   "id": "8cdc0e7b-bbd4-436d-9a10-9a1198948a0a",
   "metadata": {},
   "source": [
    "2. These escape characters provide a newline and tab, respectively. \n",
    "- `\\n`: newline \n",
    "- `\\t`: tab \n",
    "\n"
   ]
  },
  {
   "cell_type": "code",
   "execution_count": 5,
   "id": "777cfd9d-6ae2-450a-8683-04a16ffb0fc0",
   "metadata": {},
   "outputs": [
    {
     "name": "stdout",
     "output_type": "stream",
     "text": [
      "a*i\n",
      "\n",
      "\n",
      "a*i\n",
      "\n",
      "\n",
      "a*i\n",
      "\n",
      "\n",
      "a*i\n",
      "\n",
      "\n",
      "a*i\n",
      "\n",
      "\n",
      "a*i\n",
      "\n",
      "\n",
      "a*i\n",
      "\n",
      "\n",
      "a*i\n",
      "\n",
      "\n",
      "a*i\n",
      "\n",
      "\n",
      "a*i\n",
      "\n",
      "\n"
     ]
    }
   ],
   "source": [
    "# Example of \\n\n",
    "a = 'a'  \n",
    "\n",
    "for i in range(0,10): \n",
    "    print(f'{a}*i')\n",
    "    print('\\n')"
   ]
  },
  {
   "cell_type": "markdown",
   "id": "5ddbab8c-060f-46bf-ba94-f6231234a97f",
   "metadata": {},
   "source": [
    "\n",
    "3. What is the way to include backslash characters in a string? "
   ]
  },
  {
   "cell_type": "code",
   "execution_count": 10,
   "id": "99795edd-3a1c-4b51-8d79-64426e5235fe",
   "metadata": {},
   "outputs": [
    {
     "name": "stdout",
     "output_type": "stream",
     "text": [
      "John wrote a string. Jonh's string had double single quotes.\n"
     ]
    }
   ],
   "source": [
    "a = 'John wrote a string. Jonh\\'s string had double single quotes.' \n",
    "print(a)"
   ]
  },
  {
   "cell_type": "markdown",
   "id": "4647fa46-2a6e-40f5-9e5a-5ec52b8463ed",
   "metadata": {},
   "source": [
    "4. The strings \"Howl's Moving Castle\" is a correct value. Why isn't the single character in the word Howl's not escaped a problem?\n",
    "\n",
    "Answer: Because the out quotes are double and the inner quote is single. So, there is no ambiguity for the interpreter. "
   ]
  },
  {
   "cell_type": "markdown",
   "id": "c92177e7-dacb-438e-ac33-771b23da4935",
   "metadata": {},
   "source": [
    "5. How do you write a string a newlines if you don't want to use the  \\n character? \n",
    "\n",
    "Answer: One option is to use triple quotes. See the example below."
   ]
  },
  {
   "cell_type": "code",
   "execution_count": 3,
   "id": "680e0383-fed5-4d3e-925e-1accfbe7c2f3",
   "metadata": {},
   "outputs": [
    {
     "name": "stdout",
     "output_type": "stream",
     "text": [
      " This is an example \n",
      "            of creating newlines \n",
      "            without the \\n char\n"
     ]
    }
   ],
   "source": [
    "str1 = \"\"\" This is an example \n",
    "            of creating newlines \n",
    "            without the \\\\n char\"\"\"\n",
    "\n",
    "print(str1)"
   ]
  },
  {
   "cell_type": "markdown",
   "id": "9cdae2df-c590-4cc5-98e9-bbe45d3f8917",
   "metadata": {},
   "source": [
    "6. What are the values of the given expressions (assuming that the expressions are stored in a variable)\n",
    "\n",
    "\n",
    "1.  'Hello World!'[1] - this value is 'e'  \n",
    "2. \"Hello, world!\" [0:5] - this value is 'Hello'\n",
    "3. \"Hello, world!\" [:5] - this value is 'Hello'\n",
    "4. \"Hello, world!\" [3:] - this value is 'lo, world!'\n",
    "\n"
   ]
  },
  {
   "cell_type": "code",
   "execution_count": 4,
   "id": "307ac82d-b1e0-4495-b331-cbf4c98484e9",
   "metadata": {},
   "outputs": [
    {
     "data": {
      "text/plain": [
       "'e'"
      ]
     },
     "execution_count": 4,
     "metadata": {},
     "output_type": "execute_result"
    }
   ],
   "source": [
    "a = \"Hello, world!\" \n",
    "\n",
    "a[1]\n"
   ]
  },
  {
   "cell_type": "code",
   "execution_count": 5,
   "id": "da668721-4acb-4190-b8b1-1f75d6311b53",
   "metadata": {},
   "outputs": [
    {
     "data": {
      "text/plain": [
       "'Hello'"
      ]
     },
     "execution_count": 5,
     "metadata": {},
     "output_type": "execute_result"
    }
   ],
   "source": [
    "a[0:5]"
   ]
  },
  {
   "cell_type": "code",
   "execution_count": 6,
   "id": "83439c7d-7e1b-45cf-aaa0-70c758ca32ce",
   "metadata": {},
   "outputs": [
    {
     "data": {
      "text/plain": [
       "'Hello'"
      ]
     },
     "execution_count": 6,
     "metadata": {},
     "output_type": "execute_result"
    }
   ],
   "source": [
    "a[:5]"
   ]
  },
  {
   "cell_type": "code",
   "execution_count": 7,
   "id": "8504b9e9-7489-4f65-a432-8f339508aed9",
   "metadata": {},
   "outputs": [
    {
     "data": {
      "text/plain": [
       "'lo, world!'"
      ]
     },
     "execution_count": 7,
     "metadata": {},
     "output_type": "execute_result"
    }
   ],
   "source": [
    "a[3:]"
   ]
  },
  {
   "cell_type": "markdown",
   "id": "c1d394de-b23b-4812-aa8f-6e1758cb9f69",
   "metadata": {},
   "source": [
    "7. What are the values of the given expressions\n",
    "1. Hello.upper() -------------> 'HELLO\n",
    "2. Hello.upper().isupper() -------------> True\n",
    "3. Hello.upper().lower() ----------------> 'hello' "
   ]
  },
  {
   "cell_type": "code",
   "execution_count": 14,
   "id": "6d082452-fa4a-46a0-8e8d-6b16b356fb4c",
   "metadata": {},
   "outputs": [
    {
     "data": {
      "text/plain": [
       "'HELLO'"
      ]
     },
     "execution_count": 14,
     "metadata": {},
     "output_type": "execute_result"
    }
   ],
   "source": [
    "a = 'Hello' \n",
    "\n",
    "a.upper()"
   ]
  },
  {
   "cell_type": "code",
   "execution_count": 10,
   "id": "2fc0b2f7-4f4d-48a4-87b9-af2fb3f52f2e",
   "metadata": {},
   "outputs": [
    {
     "data": {
      "text/plain": [
       "True"
      ]
     },
     "execution_count": 10,
     "metadata": {},
     "output_type": "execute_result"
    }
   ],
   "source": [
    "a.upper().isupper()"
   ]
  },
  {
   "cell_type": "code",
   "execution_count": 11,
   "id": "e8978f03-38f0-496e-905b-51a7eed5b04e",
   "metadata": {},
   "outputs": [
    {
     "data": {
      "text/plain": [
       "'hello'"
      ]
     },
     "execution_count": 11,
     "metadata": {},
     "output_type": "execute_result"
    }
   ],
   "source": [
    "a.upper().lower() "
   ]
  },
  {
   "cell_type": "markdown",
   "id": "8a2bbb54-2da9-42e6-b6eb-117061b5b796",
   "metadata": {},
   "source": [
    "8. What are the values of the given expressions \n",
    "1. 'Remember, remember, the fifth of July'.split() ---------> ['Remember', 'remember', 'the','fifth', 'of', 'July']\n",
    "2. '-'.join('There can only be one.'.split()) ------------> 'There-can-only-be-one.'"
   ]
  },
  {
   "cell_type": "code",
   "execution_count": 16,
   "id": "12e3af5c-e1af-4d40-89d5-9112e0512945",
   "metadata": {},
   "outputs": [
    {
     "data": {
      "text/plain": [
       "['Remember,', 'remember,', 'the', 'fifth', 'of', 'July']"
      ]
     },
     "execution_count": 16,
     "metadata": {},
     "output_type": "execute_result"
    }
   ],
   "source": [
    "'Remember, remember, the fifth of July'.split()"
   ]
  },
  {
   "cell_type": "code",
   "execution_count": 17,
   "id": "9345f83f-bf41-4a15-bbc5-0061d01b32c1",
   "metadata": {},
   "outputs": [
    {
     "data": {
      "text/plain": [
       "'There-can-only-be-one.'"
      ]
     },
     "execution_count": 17,
     "metadata": {},
     "output_type": "execute_result"
    }
   ],
   "source": [
    "'-'.join('There can only be one.'.split())"
   ]
  },
  {
   "cell_type": "markdown",
   "id": "b27b7c97-06c6-4ca6-b085-10b221e66ffc",
   "metadata": {},
   "source": [
    "9. What are the methods for right-justifying, left-justifying, and centering a string? "
   ]
  },
  {
   "cell_type": "code",
   "execution_count": 19,
   "id": "0a18813c-d02c-44d0-a890-3c983dee8f6a",
   "metadata": {},
   "outputs": [
    {
     "name": "stdout",
     "output_type": "stream",
     "text": [
      "Right-Justified:                Hello\n",
      "Left-Justified: Hello               \n",
      "Centered:        Hello        \n"
     ]
    }
   ],
   "source": [
    "text = \"Hello\"\n",
    "width = 20\n",
    "\n",
    "right_aligned = text.rjust(width)\n",
    "left_aligned = text.ljust(width)\n",
    "centered = text.center(width)\n",
    "\n",
    "print(\"Right-Justified:\", right_aligned)\n",
    "print(\"Left-Justified:\", left_aligned)\n",
    "print(\"Centered:\", centered)\n"
   ]
  },
  {
   "cell_type": "markdown",
   "id": "80b874d7-b190-43f1-b1d9-faa1ccc2b32f",
   "metadata": {},
   "source": [
    "10. what is the best way to remove white space from the start or end? \n",
    "\n"
   ]
  },
  {
   "cell_type": "code",
   "execution_count": 20,
   "id": "ddb5d1cd-07d8-4feb-ab9b-a85fdc0d56f1",
   "metadata": {},
   "outputs": [],
   "source": [
    "white_space = \"    this_email@email.com  \" \n",
    "stripped_white_space = white_space.strip() "
   ]
  },
  {
   "cell_type": "code",
   "execution_count": 23,
   "id": "1c5f4205-9ccf-4324-b635-f04fda5d0f38",
   "metadata": {},
   "outputs": [
    {
     "ename": "SyntaxError",
     "evalue": "'return' outside function (1367653405.py, line 2)",
     "output_type": "error",
     "traceback": [
      "\u001b[0;36m  Cell \u001b[0;32mIn [23], line 2\u001b[0;36m\u001b[0m\n\u001b[0;31m    return True\u001b[0m\n\u001b[0m    ^\u001b[0m\n\u001b[0;31mSyntaxError\u001b[0m\u001b[0;31m:\u001b[0m 'return' outside function\n"
     ]
    }
   ],
   "source": [
    "if white_space == stripped_white_space:\n",
    "    print('True')\n",
    "else: \n",
    "    False"
   ]
  },
  {
   "cell_type": "code",
   "execution_count": null,
   "id": "0226bf37-9325-4b54-8f41-540b841a66ae",
   "metadata": {},
   "outputs": [],
   "source": []
  }
 ],
 "metadata": {
  "kernelspec": {
   "display_name": "Python 3 (ipykernel)",
   "language": "python",
   "name": "python3"
  },
  "language_info": {
   "codemirror_mode": {
    "name": "ipython",
    "version": 3
   },
   "file_extension": ".py",
   "mimetype": "text/x-python",
   "name": "python",
   "nbconvert_exporter": "python",
   "pygments_lexer": "ipython3",
   "version": "3.10.6"
  }
 },
 "nbformat": 4,
 "nbformat_minor": 5
}
