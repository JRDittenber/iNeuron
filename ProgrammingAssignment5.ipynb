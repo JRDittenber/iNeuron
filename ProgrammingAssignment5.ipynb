{
 "cells": [
  {
   "cell_type": "markdown",
   "id": "a17810fa-40c1-40f8-817a-46d625dd1abf",
   "metadata": {},
   "source": [
    "Author: J. Dittenber \n",
    "<br>\n",
    "Assignment 5: iNeuron.ai FullStack Data Science Boot Camp \n",
    "<br>\n",
    "\n",
    "1. Write a Python Program to Find LCM?\n",
    "2. Write a Python Program to Find HCF?\n",
    "3. Write a Python Program to Convert Decimal to Binary, Octal and Hexadecimal?\n",
    "4. Write a Python Program To Find ASCII value of a character?\n",
    "5. Write a Python Program to Make a Simple Calculator with 4 basic mathematical operations?"
   ]
  },
  {
   "cell_type": "markdown",
   "id": "3a09a17e-f690-4e7d-b74d-1594f4908e0b",
   "metadata": {},
   "source": [
    "# 1. Write a Python Program to Find LCM. \n",
    "\n",
    "We can use some properties of integers as well as the Euclidean Algorithm. \n",
    "\n",
    "First, note that we can calculate the $lcm(a,b)$ from the theorem: \n",
    "\n",
    " For all $$a, b \\in \\mathbb{Z}^+, a \\cdot b = lcm(a,b)\\cdot gcd(a,b).$$\n",
    " \n",
    " Note that the HCF (highest common factor) is the same thing as the GCD (greatest common divisor) which is mentioned in the Euclidean Algorithm. \n",
    " \n",
    " The Euclidean Algorithm allows one to generate a sequence of remainders and the remainder that is one term before a remainder equal to zero is the GCD, i.e. HCF\n",
    " \n",
    " \n",
    "The procedure is like this: To find the $gcd(a,b)$ we first write $a$ in terms of $b$ assuming $a>b$. \n",
    "\n",
    "For example, to find the $gcd(112,64)$ we would start by writing $a$ as such \n",
    "\n",
    "$$112 = 1 \\times 64 + 48$$\n",
    "Next, we shift all of the values as such\n",
    "$$64 = 1 \\times 48 + 16 $$\n",
    "And again, until we reach a remainder of $0$ \n",
    "$$48 = 3\\times 16 + 0 $$\n",
    "\n",
    "In other words, we use the algorithm to find the remainder in the second to last position (the last position being $r_n =0$) \n",
    "\n",
    "More formally, \n",
    "\n",
    "$$a = q_o b + r_0$$\n",
    "$$b = q_1 r_0 + r_1$$\n",
    "$$r_o = q_2r1 + r_2$$\n",
    "$$\\vdots$$\n",
    "$$r_{n-1} = gcd(a,b)$$\n",
    "$$r_n = 0$$ "
   ]
  },
  {
   "cell_type": "markdown",
   "id": "d6541995-8a43-4e6f-99bd-a66bc34d3af9",
   "metadata": {},
   "source": [
    "#  #2 will come first so that I can use it to solve #1 \n",
    "\n",
    "## #2 Write a program to find the HCF \n"
   ]
  },
  {
   "cell_type": "code",
   "execution_count": 1,
   "id": "e81e82d2-83c7-4ef0-9b7f-af5d07bdaec1",
   "metadata": {},
   "outputs": [],
   "source": [
    "def euclid(a, b):\n",
    "    ''' We can find the gcd (equivalently, the HCF) by using the algorithm and returning\n",
    "    value of the remainder before r=0 using while\n",
    "    '''\n",
    "    while b != 0:\n",
    "        r = b\n",
    "        b = a % b\n",
    "        a = r\n",
    "    return a\n"
   ]
  },
  {
   "cell_type": "code",
   "execution_count": 2,
   "id": "7692f289-11c1-45c0-beb8-6491ef1ed63a",
   "metadata": {},
   "outputs": [
    {
     "data": {
      "text/plain": [
       "12"
      ]
     },
     "execution_count": 2,
     "metadata": {},
     "output_type": "execute_result"
    }
   ],
   "source": [
    "euclid(84,12) \n",
    "\n"
   ]
  },
  {
   "cell_type": "markdown",
   "id": "7f1f0182-c4e6-44b0-8085-44e7343048f3",
   "metadata": {},
   "source": [
    "# Finding the LCM \n",
    "\n",
    "## Note that we have for any $a, b \\in \\mathbb{Z}^+$ where $ a \\ne b$ we can get \n",
    "\n",
    "## $$ a \\cdot b = lcm(a,b)*gcd(a,b) $$\n",
    "\n",
    "## Thus we can rearrange this as such \n",
    "\n",
    "### $$lcm(a,b) =\\frac{a \\cdot b}{gcd(a,b)} $$"
   ]
  },
  {
   "cell_type": "code",
   "execution_count": 3,
   "id": "35d7847e-3021-47fc-8280-e9b0b0212adc",
   "metadata": {},
   "outputs": [],
   "source": [
    "def euclid_2(a,b):\n",
    "    '''\n",
    "    This function will take in two values\n",
    "    then, it will use the formula above and call the function \n",
    "    I wrote in the prevous block \n",
    "    '''\n",
    "    c,d = a,b\n",
    "    gcd = euclid(a,b)\n",
    "    return int((c*d)/gcd) \n",
    "    "
   ]
  },
  {
   "cell_type": "code",
   "execution_count": 4,
   "id": "17c5c9cb-0804-48bd-8f3b-412eeaac4ce2",
   "metadata": {},
   "outputs": [
    {
     "data": {
      "text/plain": [
       "36"
      ]
     },
     "execution_count": 4,
     "metadata": {},
     "output_type": "execute_result"
    }
   ],
   "source": [
    "euclid_2(9,12) "
   ]
  },
  {
   "cell_type": "markdown",
   "id": "742608fa-c366-4001-8536-df7f33abe68f",
   "metadata": {},
   "source": [
    "## 3. Write a Python Program to Convert Decimal to Binary, Octal and Hexadecimal?\n",
    "\n",
    "\n",
    "#### Decimal to Binary \n",
    "\n",
    "To convert from decimal to binary you must divide the number by 2 and store the remainder each time until the quotient is 0. Then write the remainders in reverse order. \n",
    "\n",
    "Example: Convert $25$ to binary. \n",
    "\n",
    "1. $$25 \\div 2 = 12  r1 $$\n",
    "2. $$12 \\div 2 = 6 r0$$\n",
    "3. $$6 \\div 2 = 3 r0$$ \n",
    "4. $$3 \\div 2 = 1 r1 $$ \n",
    "5. $$ 1 \\div 2 = 0 r1$$\n",
    "\n",
    "The remainders in reverse order: $$11001$$\n",
    "\n",
    "### Decimal to Octal \n",
    "\n",
    "To convert from decimal to octal you must divide the number by 8 and store the remainder each time until the quotient is 0. Then, write the remainders in reverse order. \n",
    "\n",
    "Example: Convert $45$ to octal.\n",
    "\n",
    "1. $$45 \\div 8 = 5 r 5$$\n",
    "2. $$5 \\div 8 = 0 r 5$$ \n",
    "\n",
    "The remainders in reverse order : $$55$$\n",
    "\n",
    "\n",
    "To convert from decimal to hexadecimal you must divide the number by 16 and store the remainder each time until the quotient is 0. Then, write the remainders in reverse order. If the remainder is greater than 9, then it is represented by a letter as -> A:10, B:11, C:12, etc. \n",
    "\n",
    "Exmaple Convert $255$ to hexadecimal. \n",
    "\n",
    "1. $$255 \\div 16 = 15r15$$\n",
    "2. $$15 \\div 16 = 0 r 15 $$\n",
    "\n",
    "Write the remainders in reverse order to get: $$1515$$\n",
    "\n",
    "Note $A:10, B:11, C:12, D:13, E:14, F:15$ \n",
    "\n",
    "Thus, we get $$FF$$\n"
   ]
  },
  {
   "cell_type": "code",
   "execution_count": 37,
   "id": "d038b606-97f1-489f-96fe-2100969ceebd",
   "metadata": {},
   "outputs": [],
   "source": [
    " # The methods are using a static method because they are related to the Converter class,but do not depend on any instance-specific state or behavior.\n",
    "\n",
    "class Converter: \n",
    "    @staticmethod \n",
    "    def dec_to_base(n, base): \n",
    "        conv = []\n",
    "        while n >0:\n",
    "            rem = n%base \n",
    "            if rem < 10:\n",
    "                conv.append(str(rem))\n",
    "            else: \n",
    "                conv.append(chr(rem-10 + ord('A')))\n",
    "            n= n//base \n",
    "        conv.reverse() \n",
    "        return ''.join(conv)\n",
    "    \n",
    "    @staticmethod\n",
    "    def dec_to_bin(n):\n",
    "        return Converter.dec_to_base(n, 2)\n",
    "    \n",
    "    @staticmethod\n",
    "    def dec_to_oct(n):\n",
    "        return Converter.dec_to_base(n, 8)\n",
    "    \n",
    "    @staticmethod\n",
    "    def dec_to_hex(n):\n",
    "        return Converter.dec_to_base(n, 16)\n",
    "    \n",
    "    @staticmethod \n",
    "    def dec_to_ascii(n):\n",
    "        if n < 0 or n > 127:\n",
    "            raise ValueError(\"Input value must be in the range of 0 to 127.\")  #valid ascii character range is (0,127)\n",
    "        return chr(n)"
   ]
  },
  {
   "cell_type": "code",
   "execution_count": 38,
   "id": "9746db0d-7f61-4e4b-9fa9-e79630aec2c7",
   "metadata": {},
   "outputs": [],
   "source": [
    "c = Converter() "
   ]
  },
  {
   "cell_type": "code",
   "execution_count": 39,
   "id": "cfa51b63-dc77-4a17-b931-e6e7e6bce5b7",
   "metadata": {},
   "outputs": [
    {
     "data": {
      "text/plain": [
       "'11001'"
      ]
     },
     "execution_count": 39,
     "metadata": {},
     "output_type": "execute_result"
    }
   ],
   "source": [
    "c.dec_to_bin(25) "
   ]
  },
  {
   "cell_type": "code",
   "execution_count": 40,
   "id": "c2fd7b3c-5e27-4d72-a3ad-6807c9af73c7",
   "metadata": {},
   "outputs": [
    {
     "data": {
      "text/plain": [
       "'55'"
      ]
     },
     "execution_count": 40,
     "metadata": {},
     "output_type": "execute_result"
    }
   ],
   "source": [
    "c.dec_to_oct(45) "
   ]
  },
  {
   "cell_type": "code",
   "execution_count": 41,
   "id": "26756d62-826d-49e1-b148-b601bf447600",
   "metadata": {},
   "outputs": [
    {
     "data": {
      "text/plain": [
       "'165'"
      ]
     },
     "execution_count": 41,
     "metadata": {},
     "output_type": "execute_result"
    }
   ],
   "source": [
    "c.dec_to_hex(357) "
   ]
  },
  {
   "cell_type": "markdown",
   "id": "aa5d52f0-6fcd-4bc2-8a76-dbf7386e1949",
   "metadata": {},
   "source": [
    "#  4. Write a Python Program To Find ASCII value of a character?\n",
    "\n",
    "This can be included in the converter class. Note, that there is an exception for the case that the input value is out of range."
   ]
  },
  {
   "cell_type": "code",
   "execution_count": 43,
   "id": "a01ec985-da31-40e6-9706-6f246769c4eb",
   "metadata": {},
   "outputs": [
    {
     "data": {
      "text/plain": [
       "'~'"
      ]
     },
     "execution_count": 43,
     "metadata": {},
     "output_type": "execute_result"
    }
   ],
   "source": [
    "c.dec_to_ascii(126)"
   ]
  },
  {
   "cell_type": "markdown",
   "id": "9af21be4-aa06-44ec-ad6f-e6ee85661d55",
   "metadata": {},
   "source": [
    "# 5. Write a Python Program to Make a Simple Calculator with 4 basic mathematical operations?"
   ]
  },
  {
   "cell_type": "code",
   "execution_count": 72,
   "id": "fd87e6c8-b38e-4c10-b1cb-87de73b522d5",
   "metadata": {},
   "outputs": [],
   "source": [
    "class Calculator: \n",
    "    def __init__(self, *args): \n",
    "        self.args = args\n",
    "    \n",
    "    def add(self):\n",
    "        return sum(self.args)\n",
    "    \n",
    "    def sub(self): \n",
    "        result = self.args[0]             #must pay attention to order of operations \n",
    "        for i in range(1, len(self.args)):\n",
    "            result -= self.args[i]\n",
    "        return result\n",
    "    \n",
    "    def mult(self): \n",
    "        result = 1\n",
    "        for arg in self.args:\n",
    "            result *= arg\n",
    "        return result\n",
    "    \n",
    "    def div(self):\n",
    "        if 0 in self.args:\n",
    "            return f\"Cannot divide by zero.\"\n",
    "        result = self.args[0]               #must pay attention to order of operations \n",
    "        for i in range(1, len(self.args)):\n",
    "            result /= self.args[i]\n",
    "        return result\n",
    "\n",
    "    "
   ]
  },
  {
   "cell_type": "code",
   "execution_count": 83,
   "id": "617ee95d-fa4d-4374-a012-198e9ca2ceea",
   "metadata": {},
   "outputs": [],
   "source": [
    "calc = Calculator(1000,10,10,10)"
   ]
  },
  {
   "cell_type": "code",
   "execution_count": 84,
   "id": "8c6d8e56-cdda-4c66-adee-fb6a83902776",
   "metadata": {},
   "outputs": [
    {
     "data": {
      "text/plain": [
       "1030"
      ]
     },
     "execution_count": 84,
     "metadata": {},
     "output_type": "execute_result"
    }
   ],
   "source": [
    "calc.add()"
   ]
  },
  {
   "cell_type": "code",
   "execution_count": 89,
   "id": "fb304664-1bf9-406c-bbfb-3c42665198db",
   "metadata": {},
   "outputs": [
    {
     "data": {
      "text/plain": [
       "970"
      ]
     },
     "execution_count": 89,
     "metadata": {},
     "output_type": "execute_result"
    }
   ],
   "source": [
    "calc.sub() #note that substraction goes left to right "
   ]
  },
  {
   "cell_type": "code",
   "execution_count": 86,
   "id": "a033d583-fe7b-4b11-8f19-9e9f50e26022",
   "metadata": {},
   "outputs": [
    {
     "data": {
      "text/plain": [
       "1000000"
      ]
     },
     "execution_count": 86,
     "metadata": {},
     "output_type": "execute_result"
    }
   ],
   "source": [
    "calc.mult()"
   ]
  },
  {
   "cell_type": "code",
   "execution_count": 88,
   "id": "126ed645-9486-4578-86ad-1ee19522d752",
   "metadata": {},
   "outputs": [
    {
     "data": {
      "text/plain": [
       "1.0"
      ]
     },
     "execution_count": 88,
     "metadata": {},
     "output_type": "execute_result"
    }
   ],
   "source": [
    "calc.div() #note that the division goes left to right"
   ]
  },
  {
   "cell_type": "code",
   "execution_count": null,
   "id": "6067e4f1-bc27-469d-86a0-79f5a3d8070f",
   "metadata": {},
   "outputs": [],
   "source": []
  }
 ],
 "metadata": {
  "kernelspec": {
   "display_name": "Python 3 (ipykernel)",
   "language": "python",
   "name": "python3"
  },
  "language_info": {
   "codemirror_mode": {
    "name": "ipython",
    "version": 3
   },
   "file_extension": ".py",
   "mimetype": "text/x-python",
   "name": "python",
   "nbconvert_exporter": "python",
   "pygments_lexer": "ipython3",
   "version": "3.10.6"
  }
 },
 "nbformat": 4,
 "nbformat_minor": 5
}
