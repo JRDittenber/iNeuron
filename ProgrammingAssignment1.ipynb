{
 "cells": [
  {
   "cell_type": "markdown",
   "id": "1e98938c-0af1-4745-907d-faec35304868",
   "metadata": {},
   "source": [
    "# Programming Assignment 1 \n",
    "\n",
    "Write programs to do each of the following: \n",
    "\n",
    "1. print \"Hello Python\" \n",
    "2. Do addition and division \n",
    "3. Find the area of a triangle \n",
    "4. Swap to variables  \n",
    "5. Generate a random number "
   ]
  },
  {
   "cell_type": "code",
   "execution_count": 3,
   "id": "70ee8a8c-019b-4436-938b-f42defa17fef",
   "metadata": {},
   "outputs": [
    {
     "name": "stdout",
     "output_type": "stream",
     "text": [
      "Hello Python\n"
     ]
    }
   ],
   "source": [
    "#1 print hello world \n",
    "\n",
    "def hello_py() :\n",
    "    print('Hello Python') \n",
    "    \n",
    "\n",
    "hello_py() "
   ]
  },
  {
   "cell_type": "code",
   "execution_count": 23,
   "id": "e8925867-9614-4d89-bf2e-8a7214e18a7e",
   "metadata": {},
   "outputs": [
    {
     "name": "stdin",
     "output_type": "stream",
     "text": [
      "Please select + for addition and / for division:  +\n",
      "Enter a digit number:  500\n",
      "Enter another digit number:  25\n"
     ]
    },
    {
     "data": {
      "text/plain": [
       "525.0"
      ]
     },
     "execution_count": 23,
     "metadata": {},
     "output_type": "execute_result"
    }
   ],
   "source": [
    "#2 Do arithmetic operations addition and subtraction \n",
    "\n",
    "def operate(): \n",
    "    #get input from the user\n",
    "    a = input('Please select + for addition and / for division: ')\n",
    "    b = float(input('Enter a digit number: '))\n",
    "    c = float(input('Enter another digit number: '))\n",
    "\n",
    "    #determine which operation \n",
    "    if a == '+': \n",
    "        return b + c \n",
    "    elif a == '/':\n",
    "        \n",
    "        # deal with divide by zero \n",
    "        if c == 0:\n",
    "            print('Remember, you cannot divide by zero')\n",
    "        else:\n",
    "            return b/c \n",
    "operate()"
   ]
  },
  {
   "cell_type": "code",
   "execution_count": 26,
   "id": "ad85f313-32a2-4109-8567-b0f4524f220a",
   "metadata": {},
   "outputs": [],
   "source": [
    "# 3 Find the area of a triangle\n",
    "\n",
    "def tri_area(): \n",
    "    #get user input \n",
    "    a = float(input('Enter the length of the base: '))\n",
    "    b = float(input('Enter the length of the altitude: '))\n",
    "    \n",
    "    #check to be certain the user enters positive values \n",
    "    if a <= 0 or b <= 0:\n",
    "        print('The dimensions of a triangle must be positive') \n",
    "    else: \n",
    "        print(f'The area of the triangle is {a*b*0.5}')\n"
   ]
  },
  {
   "cell_type": "code",
   "execution_count": 29,
   "id": "41732ea9-e784-4eae-afa0-51889f38a344",
   "metadata": {},
   "outputs": [
    {
     "name": "stdin",
     "output_type": "stream",
     "text": [
      "Enter a variable of your choice 23324\n",
      "Enter a second variable of your choice dog \n"
     ]
    },
    {
     "name": "stdout",
     "output_type": "stream",
     "text": [
      "Your variables, listed in order are: 23324 and dog \n",
      "Your variables, swapped are: dog  and 23324\n"
     ]
    }
   ],
   "source": [
    "#4 Swap two variables \n",
    "\n",
    "def swap() :\n",
    "    #get user input\n",
    "    a = input('Enter a variable of your choice') \n",
    "    b = input('Enter a second variable of your choice') \n",
    "    print(f'Your variables, listed in order are: {a} and {b}')\n",
    "    a,b = b,a \n",
    "    print(f'Your variables, swapped are: {a} and {b}')\n",
    "    \n",
    "\n",
    "swap() \n",
    "    "
   ]
  },
  {
   "cell_type": "code",
   "execution_count": 25,
   "id": "4cd9de2f-9a03-48aa-9c15-af6c17b1aa95",
   "metadata": {},
   "outputs": [
    {
     "name": "stdin",
     "output_type": "stream",
     "text": [
      "Enter the length of the base:  5\n",
      "Enter the length of the altitude:  100\n"
     ]
    },
    {
     "name": "stdout",
     "output_type": "stream",
     "text": [
      "The area of the triangle is 250.0\n"
     ]
    }
   ],
   "source": [
    "tri_area()"
   ]
  },
  {
   "cell_type": "markdown",
   "id": "61fbd23d-b4a4-483d-ad5a-baa89d040aae",
   "metadata": {},
   "source": []
  }
 ],
 "metadata": {
  "kernelspec": {
   "display_name": "Python 3 (ipykernel)",
   "language": "python",
   "name": "python3"
  },
  "language_info": {
   "codemirror_mode": {
    "name": "ipython",
    "version": 3
   },
   "file_extension": ".py",
   "mimetype": "text/x-python",
   "name": "python",
   "nbconvert_exporter": "python",
   "pygments_lexer": "ipython3",
   "version": "3.10.6"
  }
 },
 "nbformat": 4,
 "nbformat_minor": 5
}
